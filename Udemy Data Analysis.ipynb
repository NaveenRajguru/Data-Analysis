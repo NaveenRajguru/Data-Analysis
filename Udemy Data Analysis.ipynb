{
 "cells": [
  {
   "cell_type": "code",
   "execution_count": 1,
   "id": "54d0dac5",
   "metadata": {},
   "outputs": [],
   "source": [
    "import pandas as pd\n",
    "import numpy as np\n",
    "import seaborn as sns\n",
    "import matplotlib.pyplot as plt"
   ]
  },
  {
   "cell_type": "code",
   "execution_count": 2,
   "id": "19ca0da1",
   "metadata": {},
   "outputs": [],
   "source": [
    "data=pd.read_csv('udemy_courses.csv')"
   ]
  },
  {
   "cell_type": "markdown",
   "id": "7f927c27",
   "metadata": {},
   "source": [
    "### Basic info about your data set"
   ]
  },
  {
   "cell_type": "code",
   "execution_count": 4,
   "id": "7fd267af",
   "metadata": {},
   "outputs": [
    {
     "name": "stdout",
     "output_type": "stream",
     "text": [
      "<class 'pandas.core.frame.DataFrame'>\n",
      "RangeIndex: 3678 entries, 0 to 3677\n",
      "Data columns (total 12 columns):\n",
      " #   Column               Non-Null Count  Dtype  \n",
      "---  ------               --------------  -----  \n",
      " 0   course_id            3678 non-null   int64  \n",
      " 1   course_title         3678 non-null   object \n",
      " 2   url                  3678 non-null   object \n",
      " 3   is_paid              3678 non-null   bool   \n",
      " 4   price                3678 non-null   int64  \n",
      " 5   num_subscribers      3678 non-null   int64  \n",
      " 6   num_reviews          3678 non-null   int64  \n",
      " 7   num_lectures         3678 non-null   int64  \n",
      " 8   level                3678 non-null   object \n",
      " 9   content_duration     3678 non-null   float64\n",
      " 10  published_timestamp  3678 non-null   object \n",
      " 11  subject              3678 non-null   object \n",
      "dtypes: bool(1), float64(1), int64(5), object(5)\n",
      "memory usage: 319.8+ KB\n"
     ]
    }
   ],
   "source": [
    "data.info()"
   ]
  },
  {
   "cell_type": "code",
   "execution_count": 4,
   "id": "ecef22ba",
   "metadata": {},
   "outputs": [],
   "source": [
    " #in these column name publish_timestamp is object data type we need into convert into datatime dtype\n",
    "data['published_timestamp']=pd.to_datetime(data['published_timestamp'])"
   ]
  },
  {
   "cell_type": "code",
   "execution_count": 5,
   "id": "39ca568e",
   "metadata": {},
   "outputs": [
    {
     "data": {
      "text/plain": [
       "(3678, 12)"
      ]
     },
     "execution_count": 5,
     "metadata": {},
     "output_type": "execute_result"
    }
   ],
   "source": [
    "data.shape  #total number of rows and columns"
   ]
  },
  {
   "cell_type": "markdown",
   "id": "6cb3e951",
   "metadata": {},
   "source": [
    "### Finding any Null Value in data set"
   ]
  },
  {
   "cell_type": "code",
   "execution_count": 6,
   "id": "d6a56ef8",
   "metadata": {},
   "outputs": [
    {
     "data": {
      "text/plain": [
       "course_id              0\n",
       "course_title           0\n",
       "url                    0\n",
       "is_paid                0\n",
       "price                  0\n",
       "num_subscribers        0\n",
       "num_reviews            0\n",
       "num_lectures           0\n",
       "level                  0\n",
       "content_duration       0\n",
       "published_timestamp    0\n",
       "subject                0\n",
       "dtype: int64"
      ]
     },
     "execution_count": 6,
     "metadata": {},
     "output_type": "execute_result"
    }
   ],
   "source": [
    "data.isnull().sum()"
   ]
  },
  {
   "cell_type": "markdown",
   "id": "244131cf",
   "metadata": {},
   "source": [
    "There is no null value in any columns"
   ]
  },
  {
   "cell_type": "markdown",
   "id": "59083156",
   "metadata": {},
   "source": [
    "### Check for the duplicate Data"
   ]
  },
  {
   "cell_type": "code",
   "execution_count": 7,
   "id": "2033bd0e",
   "metadata": {},
   "outputs": [
    {
     "data": {
      "text/plain": [
       "6"
      ]
     },
     "execution_count": 7,
     "metadata": {},
     "output_type": "execute_result"
    }
   ],
   "source": [
    "data.duplicated().sum() # there are six duplicate value"
   ]
  },
  {
   "cell_type": "markdown",
   "id": "9d7bc4be",
   "metadata": {},
   "source": [
    "### Removing the duplicated value by DROP DUPLICATED medthod"
   ]
  },
  {
   "cell_type": "code",
   "execution_count": 8,
   "id": "1666bd3a",
   "metadata": {},
   "outputs": [
    {
     "data": {
      "text/plain": [
       "(3672, 12)"
      ]
     },
     "execution_count": 8,
     "metadata": {},
     "output_type": "execute_result"
    }
   ],
   "source": [
    "data.drop_duplicates().shape"
   ]
  },
  {
   "cell_type": "markdown",
   "id": "b14b0806",
   "metadata": {},
   "source": [
    "### Changing columns name as per our needs and Satisfaction"
   ]
  },
  {
   "cell_type": "code",
   "execution_count": 9,
   "id": "8892c183",
   "metadata": {},
   "outputs": [
    {
     "data": {
      "text/plain": [
       "Index(['course_id', 'course_title', 'url', 'is_paid', 'price',\n",
       "       'num_subscribers', 'num_reviews', 'num_lectures', 'level',\n",
       "       'content_duration', 'published_timestamp', 'subject'],\n",
       "      dtype='object')"
      ]
     },
     "execution_count": 9,
     "metadata": {},
     "output_type": "execute_result"
    }
   ],
   "source": [
    "data.columns"
   ]
  },
  {
   "cell_type": "code",
   "execution_count": 10,
   "id": "8660ebfe",
   "metadata": {},
   "outputs": [],
   "source": [
    "data.columns=['CourseID','CourseTitle','Link','Version','Price',\n",
    "             'Subscribers','Reviews.No','Lectures','Level','Duration',\n",
    "             'ReleasedDate','Subject']"
   ]
  },
  {
   "cell_type": "markdown",
   "id": "ca69d7be",
   "metadata": {},
   "source": [
    "### Changing Version column data true or false to Paid or free"
   ]
  },
  {
   "cell_type": "code",
   "execution_count": 11,
   "id": "1a80c723",
   "metadata": {},
   "outputs": [],
   "source": [
    "data['Version']=data['Version'].replace({True:'Paid',False:'Free'})"
   ]
  },
  {
   "cell_type": "code",
   "execution_count": 12,
   "id": "92c67ac8",
   "metadata": {},
   "outputs": [
    {
     "data": {
      "text/html": [
       "<div>\n",
       "<style scoped>\n",
       "    .dataframe tbody tr th:only-of-type {\n",
       "        vertical-align: middle;\n",
       "    }\n",
       "\n",
       "    .dataframe tbody tr th {\n",
       "        vertical-align: top;\n",
       "    }\n",
       "\n",
       "    .dataframe thead th {\n",
       "        text-align: right;\n",
       "    }\n",
       "</style>\n",
       "<table border=\"1\" class=\"dataframe\">\n",
       "  <thead>\n",
       "    <tr style=\"text-align: right;\">\n",
       "      <th></th>\n",
       "      <th>CourseID</th>\n",
       "      <th>CourseTitle</th>\n",
       "      <th>Link</th>\n",
       "      <th>Version</th>\n",
       "      <th>Price</th>\n",
       "      <th>Subscribers</th>\n",
       "      <th>Reviews.No</th>\n",
       "      <th>Lectures</th>\n",
       "      <th>Level</th>\n",
       "      <th>Duration</th>\n",
       "      <th>ReleasedDate</th>\n",
       "      <th>Subject</th>\n",
       "    </tr>\n",
       "  </thead>\n",
       "  <tbody>\n",
       "    <tr>\n",
       "      <th>0</th>\n",
       "      <td>1070968</td>\n",
       "      <td>Ultimate Investment Banking Course</td>\n",
       "      <td>https://www.udemy.com/ultimate-investment-bank...</td>\n",
       "      <td>Paid</td>\n",
       "      <td>200</td>\n",
       "      <td>2147</td>\n",
       "      <td>23</td>\n",
       "      <td>51</td>\n",
       "      <td>All Levels</td>\n",
       "      <td>1.5</td>\n",
       "      <td>2017-01-18 20:58:58+00:00</td>\n",
       "      <td>Business Finance</td>\n",
       "    </tr>\n",
       "    <tr>\n",
       "      <th>1</th>\n",
       "      <td>1113822</td>\n",
       "      <td>Complete GST Course &amp; Certification - Grow You...</td>\n",
       "      <td>https://www.udemy.com/goods-and-services-tax/</td>\n",
       "      <td>Paid</td>\n",
       "      <td>75</td>\n",
       "      <td>2792</td>\n",
       "      <td>923</td>\n",
       "      <td>274</td>\n",
       "      <td>All Levels</td>\n",
       "      <td>39.0</td>\n",
       "      <td>2017-03-09 16:34:20+00:00</td>\n",
       "      <td>Business Finance</td>\n",
       "    </tr>\n",
       "  </tbody>\n",
       "</table>\n",
       "</div>"
      ],
      "text/plain": [
       "   CourseID                                        CourseTitle  \\\n",
       "0   1070968                 Ultimate Investment Banking Course   \n",
       "1   1113822  Complete GST Course & Certification - Grow You...   \n",
       "\n",
       "                                                Link Version  Price  \\\n",
       "0  https://www.udemy.com/ultimate-investment-bank...    Paid    200   \n",
       "1      https://www.udemy.com/goods-and-services-tax/    Paid     75   \n",
       "\n",
       "   Subscribers  Reviews.No  Lectures       Level  Duration  \\\n",
       "0         2147          23        51  All Levels       1.5   \n",
       "1         2792         923       274  All Levels      39.0   \n",
       "\n",
       "               ReleasedDate           Subject  \n",
       "0 2017-01-18 20:58:58+00:00  Business Finance  \n",
       "1 2017-03-09 16:34:20+00:00  Business Finance  "
      ]
     },
     "execution_count": 12,
     "metadata": {},
     "output_type": "execute_result"
    }
   ],
   "source": [
    "data.head(2)"
   ]
  },
  {
   "cell_type": "markdown",
   "id": "993c6299",
   "metadata": {},
   "source": [
    "### Find out numbers of courses as per subjects"
   ]
  },
  {
   "cell_type": "code",
   "execution_count": 13,
   "id": "2483b0b4",
   "metadata": {},
   "outputs": [
    {
     "data": {
      "text/plain": [
       "Subject\n",
       "Web Development        1200\n",
       "Business Finance       1195\n",
       "Musical Instruments     680\n",
       "Graphic Design          603\n",
       "Name: count, dtype: int64"
      ]
     },
     "execution_count": 13,
     "metadata": {},
     "output_type": "execute_result"
    }
   ],
   "source": [
    "data['Subject'].value_counts()"
   ]
  },
  {
   "cell_type": "markdown",
   "id": "2d86c497",
   "metadata": {},
   "source": [
    "### For Which level Udemy Courses Providing the courses"
   ]
  },
  {
   "cell_type": "code",
   "execution_count": 14,
   "id": "39ce8407",
   "metadata": {},
   "outputs": [
    {
     "data": {
      "text/plain": [
       "Level\n",
       "All Levels            1929\n",
       "Beginner Level        1270\n",
       "Intermediate Level     421\n",
       "Expert Level            58\n",
       "Name: count, dtype: int64"
      ]
     },
     "execution_count": 14,
     "metadata": {},
     "output_type": "execute_result"
    }
   ],
   "source": [
    "data['Level'].value_counts()"
   ]
  },
  {
   "cell_type": "code",
   "execution_count": 15,
   "id": "44ab3ca5",
   "metadata": {},
   "outputs": [],
   "source": [
    "#sns.countplot(data['Level'])\n",
    "#plt.xlabel1('Level',fontsize=13)\n",
    "#plt.ylabel1('Number of courses per level',fontsize=13)\n",
    "#plt.xticks(roation=65)\n",
    "#plt.show()"
   ]
  },
  {
   "cell_type": "markdown",
   "id": "9a054e16",
   "metadata": {},
   "source": [
    "### Display the Number of people who buy paid course or free course"
   ]
  },
  {
   "cell_type": "code",
   "execution_count": 16,
   "id": "58d00a5e",
   "metadata": {},
   "outputs": [
    {
     "data": {
      "text/plain": [
       "Version\n",
       "Paid    3368\n",
       "Free     310\n",
       "Name: count, dtype: int64"
      ]
     },
     "execution_count": 16,
     "metadata": {},
     "output_type": "execute_result"
    }
   ],
   "source": [
    "data['Version'].value_counts()"
   ]
  },
  {
   "cell_type": "markdown",
   "id": "ec27f40e",
   "metadata": {},
   "source": [
    "There are 3368 paid courses and 310 free courses"
   ]
  },
  {
   "cell_type": "markdown",
   "id": "8cf48246",
   "metadata": {},
   "source": [
    "### In which course have a higher number of subscriber Free or Paid"
   ]
  },
  {
   "cell_type": "code",
   "execution_count": 18,
   "id": "2b17ff29",
   "metadata": {},
   "outputs": [
    {
     "data": {
      "text/html": [
       "<div>\n",
       "<style scoped>\n",
       "    .dataframe tbody tr th:only-of-type {\n",
       "        vertical-align: middle;\n",
       "    }\n",
       "\n",
       "    .dataframe tbody tr th {\n",
       "        vertical-align: top;\n",
       "    }\n",
       "\n",
       "    .dataframe thead th {\n",
       "        text-align: right;\n",
       "    }\n",
       "</style>\n",
       "<table border=\"1\" class=\"dataframe\">\n",
       "  <thead>\n",
       "    <tr style=\"text-align: right;\">\n",
       "      <th></th>\n",
       "      <th>Subject</th>\n",
       "      <th>Version</th>\n",
       "      <th>count</th>\n",
       "    </tr>\n",
       "  </thead>\n",
       "  <tbody>\n",
       "    <tr>\n",
       "      <th>0</th>\n",
       "      <td>Business Finance</td>\n",
       "      <td>Paid</td>\n",
       "      <td>1099</td>\n",
       "    </tr>\n",
       "    <tr>\n",
       "      <th>1</th>\n",
       "      <td>Business Finance</td>\n",
       "      <td>Free</td>\n",
       "      <td>96</td>\n",
       "    </tr>\n",
       "    <tr>\n",
       "      <th>2</th>\n",
       "      <td>Graphic Design</td>\n",
       "      <td>Paid</td>\n",
       "      <td>568</td>\n",
       "    </tr>\n",
       "    <tr>\n",
       "      <th>3</th>\n",
       "      <td>Graphic Design</td>\n",
       "      <td>Free</td>\n",
       "      <td>35</td>\n",
       "    </tr>\n",
       "    <tr>\n",
       "      <th>4</th>\n",
       "      <td>Musical Instruments</td>\n",
       "      <td>Paid</td>\n",
       "      <td>634</td>\n",
       "    </tr>\n",
       "    <tr>\n",
       "      <th>5</th>\n",
       "      <td>Musical Instruments</td>\n",
       "      <td>Free</td>\n",
       "      <td>46</td>\n",
       "    </tr>\n",
       "    <tr>\n",
       "      <th>6</th>\n",
       "      <td>Web Development</td>\n",
       "      <td>Paid</td>\n",
       "      <td>1067</td>\n",
       "    </tr>\n",
       "    <tr>\n",
       "      <th>7</th>\n",
       "      <td>Web Development</td>\n",
       "      <td>Free</td>\n",
       "      <td>133</td>\n",
       "    </tr>\n",
       "  </tbody>\n",
       "</table>\n",
       "</div>"
      ],
      "text/plain": [
       "               Subject Version  count\n",
       "0     Business Finance    Paid   1099\n",
       "1     Business Finance    Free     96\n",
       "2       Graphic Design    Paid    568\n",
       "3       Graphic Design    Free     35\n",
       "4  Musical Instruments    Paid    634\n",
       "5  Musical Instruments    Free     46\n",
       "6      Web Development    Paid   1067\n",
       "7      Web Development    Free    133"
      ]
     },
     "execution_count": 18,
     "metadata": {},
     "output_type": "execute_result"
    }
   ],
   "source": [
    "data.groupby('Subject')['Version'].value_counts().reset_index()"
   ]
  },
  {
   "cell_type": "markdown",
   "id": "8aa320cb",
   "metadata": {},
   "source": [
    "### Which Level has the Highest Number of Subscribers?"
   ]
  },
  {
   "cell_type": "code",
   "execution_count": 51,
   "id": "2db3eda0",
   "metadata": {},
   "outputs": [
    {
     "data": {
      "text/html": [
       "<div>\n",
       "<style scoped>\n",
       "    .dataframe tbody tr th:only-of-type {\n",
       "        vertical-align: middle;\n",
       "    }\n",
       "\n",
       "    .dataframe tbody tr th {\n",
       "        vertical-align: top;\n",
       "    }\n",
       "\n",
       "    .dataframe thead th {\n",
       "        text-align: right;\n",
       "    }\n",
       "</style>\n",
       "<table border=\"1\" class=\"dataframe\">\n",
       "  <thead>\n",
       "    <tr style=\"text-align: right;\">\n",
       "      <th></th>\n",
       "      <th>CourseID</th>\n",
       "      <th>CourseTitle</th>\n",
       "      <th>Link</th>\n",
       "      <th>Version</th>\n",
       "      <th>Price</th>\n",
       "      <th>Subscribers</th>\n",
       "      <th>Reviews.No</th>\n",
       "      <th>Lectures</th>\n",
       "      <th>Level</th>\n",
       "      <th>Duration</th>\n",
       "      <th>ReleasedDate</th>\n",
       "      <th>Subject</th>\n",
       "    </tr>\n",
       "  </thead>\n",
       "  <tbody>\n",
       "    <tr>\n",
       "      <th>0</th>\n",
       "      <td>1070968</td>\n",
       "      <td>Ultimate Investment Banking Course</td>\n",
       "      <td>https://www.udemy.com/ultimate-investment-bank...</td>\n",
       "      <td>Paid</td>\n",
       "      <td>200</td>\n",
       "      <td>2147</td>\n",
       "      <td>23</td>\n",
       "      <td>51</td>\n",
       "      <td>All Levels</td>\n",
       "      <td>1.5</td>\n",
       "      <td>2017-01-18 20:58:58+00:00</td>\n",
       "      <td>Business Finance</td>\n",
       "    </tr>\n",
       "    <tr>\n",
       "      <th>1</th>\n",
       "      <td>1113822</td>\n",
       "      <td>Complete GST Course &amp; Certification - Grow You...</td>\n",
       "      <td>https://www.udemy.com/goods-and-services-tax/</td>\n",
       "      <td>Paid</td>\n",
       "      <td>75</td>\n",
       "      <td>2792</td>\n",
       "      <td>923</td>\n",
       "      <td>274</td>\n",
       "      <td>All Levels</td>\n",
       "      <td>39.0</td>\n",
       "      <td>2017-03-09 16:34:20+00:00</td>\n",
       "      <td>Business Finance</td>\n",
       "    </tr>\n",
       "  </tbody>\n",
       "</table>\n",
       "</div>"
      ],
      "text/plain": [
       "   CourseID                                        CourseTitle  \\\n",
       "0   1070968                 Ultimate Investment Banking Course   \n",
       "1   1113822  Complete GST Course & Certification - Grow You...   \n",
       "\n",
       "                                                Link Version  Price  \\\n",
       "0  https://www.udemy.com/ultimate-investment-bank...    Paid    200   \n",
       "1      https://www.udemy.com/goods-and-services-tax/    Paid     75   \n",
       "\n",
       "   Subscribers  Reviews.No  Lectures       Level  Duration  \\\n",
       "0         2147          23        51  All Levels       1.5   \n",
       "1         2792         923       274  All Levels      39.0   \n",
       "\n",
       "               ReleasedDate           Subject  \n",
       "0 2017-01-18 20:58:58+00:00  Business Finance  \n",
       "1 2017-03-09 16:34:20+00:00  Business Finance  "
      ]
     },
     "execution_count": 51,
     "metadata": {},
     "output_type": "execute_result"
    }
   ],
   "source": [
    "data.head(2)"
   ]
  },
  {
   "cell_type": "code",
   "execution_count": 59,
   "id": "4434899b",
   "metadata": {},
   "outputs": [
    {
     "data": {
      "text/plain": [
       "Level\n",
       "All Levels            6915076\n",
       "Beginner Level        4051843\n",
       "Expert Level            50196\n",
       "Intermediate Level     742005\n",
       "Name: Subscribers, dtype: int64"
      ]
     },
     "execution_count": 59,
     "metadata": {},
     "output_type": "execute_result"
    }
   ],
   "source": [
    "data.groupby('Level')['Subscribers'].sum()"
   ]
  },
  {
   "cell_type": "markdown",
   "id": "1b4edffe",
   "metadata": {},
   "source": [
    "### Find Most Popular Course Title"
   ]
  },
  {
   "cell_type": "code",
   "execution_count": 65,
   "id": "6d676df8",
   "metadata": {},
   "outputs": [
    {
     "data": {
      "text/html": [
       "<div>\n",
       "<style scoped>\n",
       "    .dataframe tbody tr th:only-of-type {\n",
       "        vertical-align: middle;\n",
       "    }\n",
       "\n",
       "    .dataframe tbody tr th {\n",
       "        vertical-align: top;\n",
       "    }\n",
       "\n",
       "    .dataframe thead th {\n",
       "        text-align: right;\n",
       "    }\n",
       "</style>\n",
       "<table border=\"1\" class=\"dataframe\">\n",
       "  <thead>\n",
       "    <tr style=\"text-align: right;\">\n",
       "      <th></th>\n",
       "      <th>CourseID</th>\n",
       "      <th>CourseTitle</th>\n",
       "      <th>Link</th>\n",
       "      <th>Version</th>\n",
       "      <th>Price</th>\n",
       "      <th>Subscribers</th>\n",
       "      <th>Reviews.No</th>\n",
       "      <th>Lectures</th>\n",
       "      <th>Level</th>\n",
       "      <th>Duration</th>\n",
       "      <th>ReleasedDate</th>\n",
       "      <th>Subject</th>\n",
       "    </tr>\n",
       "  </thead>\n",
       "  <tbody>\n",
       "    <tr>\n",
       "      <th>2827</th>\n",
       "      <td>41295</td>\n",
       "      <td>Learn HTML5 Programming From Scratch</td>\n",
       "      <td>https://www.udemy.com/learn-html5-programming-...</td>\n",
       "      <td>Free</td>\n",
       "      <td>0</td>\n",
       "      <td>268923</td>\n",
       "      <td>8629</td>\n",
       "      <td>45</td>\n",
       "      <td>All Levels</td>\n",
       "      <td>10.5</td>\n",
       "      <td>2013-02-14 07:03:41+00:00</td>\n",
       "      <td>Web Development</td>\n",
       "    </tr>\n",
       "  </tbody>\n",
       "</table>\n",
       "</div>"
      ],
      "text/plain": [
       "      CourseID                           CourseTitle  \\\n",
       "2827     41295  Learn HTML5 Programming From Scratch   \n",
       "\n",
       "                                                   Link Version  Price  \\\n",
       "2827  https://www.udemy.com/learn-html5-programming-...    Free      0   \n",
       "\n",
       "      Subscribers  Reviews.No  Lectures       Level  Duration  \\\n",
       "2827       268923        8629        45  All Levels      10.5   \n",
       "\n",
       "                  ReleasedDate          Subject  \n",
       "2827 2013-02-14 07:03:41+00:00  Web Development  "
      ]
     },
     "execution_count": 65,
     "metadata": {},
     "output_type": "execute_result"
    }
   ],
   "source": [
    "data[data['Subscribers'].max()==data['Subscribers']]"
   ]
  },
  {
   "cell_type": "markdown",
   "id": "9c7fa0a9",
   "metadata": {},
   "source": [
    "### Display 10 Most Popular Courses as Per Numbers of  Subscribers"
   ]
  },
  {
   "cell_type": "code",
   "execution_count": 73,
   "id": "007ee570",
   "metadata": {
    "scrolled": true
   },
   "outputs": [
    {
     "data": {
      "text/html": [
       "<div>\n",
       "<style scoped>\n",
       "    .dataframe tbody tr th:only-of-type {\n",
       "        vertical-align: middle;\n",
       "    }\n",
       "\n",
       "    .dataframe tbody tr th {\n",
       "        vertical-align: top;\n",
       "    }\n",
       "\n",
       "    .dataframe thead th {\n",
       "        text-align: right;\n",
       "    }\n",
       "</style>\n",
       "<table border=\"1\" class=\"dataframe\">\n",
       "  <thead>\n",
       "    <tr style=\"text-align: right;\">\n",
       "      <th></th>\n",
       "      <th>index</th>\n",
       "      <th>CourseTitle</th>\n",
       "      <th>Subscribers</th>\n",
       "    </tr>\n",
       "  </thead>\n",
       "  <tbody>\n",
       "    <tr>\n",
       "      <th>0</th>\n",
       "      <td>2827</td>\n",
       "      <td>Learn HTML5 Programming From Scratch</td>\n",
       "      <td>268923</td>\n",
       "    </tr>\n",
       "    <tr>\n",
       "      <th>1</th>\n",
       "      <td>3032</td>\n",
       "      <td>Coding for Entrepreneurs Basic</td>\n",
       "      <td>161029</td>\n",
       "    </tr>\n",
       "    <tr>\n",
       "      <th>2</th>\n",
       "      <td>3230</td>\n",
       "      <td>The Web Developer Bootcamp</td>\n",
       "      <td>121584</td>\n",
       "    </tr>\n",
       "    <tr>\n",
       "      <th>3</th>\n",
       "      <td>2783</td>\n",
       "      <td>Build Your First Website in 1 Week with HTML5 ...</td>\n",
       "      <td>120291</td>\n",
       "    </tr>\n",
       "    <tr>\n",
       "      <th>4</th>\n",
       "      <td>3232</td>\n",
       "      <td>The Complete Web Developer Course 2.0</td>\n",
       "      <td>114512</td>\n",
       "    </tr>\n",
       "    <tr>\n",
       "      <th>5</th>\n",
       "      <td>1896</td>\n",
       "      <td>Free Beginner Electric Guitar Lessons</td>\n",
       "      <td>101154</td>\n",
       "    </tr>\n",
       "    <tr>\n",
       "      <th>6</th>\n",
       "      <td>2589</td>\n",
       "      <td>Web Design for Web Developers: Build Beautiful...</td>\n",
       "      <td>98867</td>\n",
       "    </tr>\n",
       "    <tr>\n",
       "      <th>7</th>\n",
       "      <td>2619</td>\n",
       "      <td>Learn Javascript &amp; JQuery From Scratch</td>\n",
       "      <td>84897</td>\n",
       "    </tr>\n",
       "    <tr>\n",
       "      <th>8</th>\n",
       "      <td>3289</td>\n",
       "      <td>Practical PHP: Master the Basics and Code Dyna...</td>\n",
       "      <td>83737</td>\n",
       "    </tr>\n",
       "    <tr>\n",
       "      <th>9</th>\n",
       "      <td>3247</td>\n",
       "      <td>JavaScript: Understanding the Weird Parts</td>\n",
       "      <td>79612</td>\n",
       "    </tr>\n",
       "  </tbody>\n",
       "</table>\n",
       "</div>"
      ],
      "text/plain": [
       "   index                                        CourseTitle  Subscribers\n",
       "0   2827               Learn HTML5 Programming From Scratch       268923\n",
       "1   3032                     Coding for Entrepreneurs Basic       161029\n",
       "2   3230                         The Web Developer Bootcamp       121584\n",
       "3   2783  Build Your First Website in 1 Week with HTML5 ...       120291\n",
       "4   3232              The Complete Web Developer Course 2.0       114512\n",
       "5   1896              Free Beginner Electric Guitar Lessons       101154\n",
       "6   2589  Web Design for Web Developers: Build Beautiful...        98867\n",
       "7   2619             Learn Javascript & JQuery From Scratch        84897\n",
       "8   3289  Practical PHP: Master the Basics and Code Dyna...        83737\n",
       "9   3247          JavaScript: Understanding the Weird Parts        79612"
      ]
     },
     "execution_count": 73,
     "metadata": {},
     "output_type": "execute_result"
    }
   ],
   "source": [
    "data.sort_values('Subscribers',ascending=False).head(10)[['CourseTitle','Subscribers']].reset_index()"
   ]
  },
  {
   "cell_type": "markdown",
   "id": "ad12bcf5",
   "metadata": {},
   "source": [
    "Top 10 most popular Courses as per the subscribers"
   ]
  },
  {
   "cell_type": "markdown",
   "id": "fa9305c5",
   "metadata": {},
   "source": [
    "### Find the Course Which is Having The Highest Number of Reviews"
   ]
  },
  {
   "cell_type": "code",
   "execution_count": 74,
   "id": "41b4b31c",
   "metadata": {},
   "outputs": [
    {
     "data": {
      "text/html": [
       "<div>\n",
       "<style scoped>\n",
       "    .dataframe tbody tr th:only-of-type {\n",
       "        vertical-align: middle;\n",
       "    }\n",
       "\n",
       "    .dataframe tbody tr th {\n",
       "        vertical-align: top;\n",
       "    }\n",
       "\n",
       "    .dataframe thead th {\n",
       "        text-align: right;\n",
       "    }\n",
       "</style>\n",
       "<table border=\"1\" class=\"dataframe\">\n",
       "  <thead>\n",
       "    <tr style=\"text-align: right;\">\n",
       "      <th></th>\n",
       "      <th>CourseID</th>\n",
       "      <th>CourseTitle</th>\n",
       "      <th>Link</th>\n",
       "      <th>Version</th>\n",
       "      <th>Price</th>\n",
       "      <th>Subscribers</th>\n",
       "      <th>Reviews.No</th>\n",
       "      <th>Lectures</th>\n",
       "      <th>Level</th>\n",
       "      <th>Duration</th>\n",
       "      <th>ReleasedDate</th>\n",
       "      <th>Subject</th>\n",
       "    </tr>\n",
       "  </thead>\n",
       "  <tbody>\n",
       "    <tr>\n",
       "      <th>0</th>\n",
       "      <td>1070968</td>\n",
       "      <td>Ultimate Investment Banking Course</td>\n",
       "      <td>https://www.udemy.com/ultimate-investment-bank...</td>\n",
       "      <td>Paid</td>\n",
       "      <td>200</td>\n",
       "      <td>2147</td>\n",
       "      <td>23</td>\n",
       "      <td>51</td>\n",
       "      <td>All Levels</td>\n",
       "      <td>1.5</td>\n",
       "      <td>2017-01-18 20:58:58+00:00</td>\n",
       "      <td>Business Finance</td>\n",
       "    </tr>\n",
       "    <tr>\n",
       "      <th>1</th>\n",
       "      <td>1113822</td>\n",
       "      <td>Complete GST Course &amp; Certification - Grow You...</td>\n",
       "      <td>https://www.udemy.com/goods-and-services-tax/</td>\n",
       "      <td>Paid</td>\n",
       "      <td>75</td>\n",
       "      <td>2792</td>\n",
       "      <td>923</td>\n",
       "      <td>274</td>\n",
       "      <td>All Levels</td>\n",
       "      <td>39.0</td>\n",
       "      <td>2017-03-09 16:34:20+00:00</td>\n",
       "      <td>Business Finance</td>\n",
       "    </tr>\n",
       "  </tbody>\n",
       "</table>\n",
       "</div>"
      ],
      "text/plain": [
       "   CourseID                                        CourseTitle  \\\n",
       "0   1070968                 Ultimate Investment Banking Course   \n",
       "1   1113822  Complete GST Course & Certification - Grow You...   \n",
       "\n",
       "                                                Link Version  Price  \\\n",
       "0  https://www.udemy.com/ultimate-investment-bank...    Paid    200   \n",
       "1      https://www.udemy.com/goods-and-services-tax/    Paid     75   \n",
       "\n",
       "   Subscribers  Reviews.No  Lectures       Level  Duration  \\\n",
       "0         2147          23        51  All Levels       1.5   \n",
       "1         2792         923       274  All Levels      39.0   \n",
       "\n",
       "               ReleasedDate           Subject  \n",
       "0 2017-01-18 20:58:58+00:00  Business Finance  \n",
       "1 2017-03-09 16:34:20+00:00  Business Finance  "
      ]
     },
     "execution_count": 74,
     "metadata": {},
     "output_type": "execute_result"
    }
   ],
   "source": [
    "data.head(2)"
   ]
  },
  {
   "cell_type": "code",
   "execution_count": 78,
   "id": "ec0c6c70",
   "metadata": {},
   "outputs": [
    {
     "data": {
      "text/html": [
       "<div>\n",
       "<style scoped>\n",
       "    .dataframe tbody tr th:only-of-type {\n",
       "        vertical-align: middle;\n",
       "    }\n",
       "\n",
       "    .dataframe tbody tr th {\n",
       "        vertical-align: top;\n",
       "    }\n",
       "\n",
       "    .dataframe thead th {\n",
       "        text-align: right;\n",
       "    }\n",
       "</style>\n",
       "<table border=\"1\" class=\"dataframe\">\n",
       "  <thead>\n",
       "    <tr style=\"text-align: right;\">\n",
       "      <th></th>\n",
       "      <th>index</th>\n",
       "      <th>CourseTitle</th>\n",
       "      <th>Reviews.No</th>\n",
       "    </tr>\n",
       "  </thead>\n",
       "  <tbody>\n",
       "    <tr>\n",
       "      <th>0</th>\n",
       "      <td>3230</td>\n",
       "      <td>The Web Developer Bootcamp</td>\n",
       "      <td>27445</td>\n",
       "    </tr>\n",
       "    <tr>\n",
       "      <th>1</th>\n",
       "      <td>3232</td>\n",
       "      <td>The Complete Web Developer Course 2.0</td>\n",
       "      <td>22412</td>\n",
       "    </tr>\n",
       "    <tr>\n",
       "      <th>2</th>\n",
       "      <td>3204</td>\n",
       "      <td>Angular 4 (formerly Angular 2) - The Complete ...</td>\n",
       "      <td>19649</td>\n",
       "    </tr>\n",
       "    <tr>\n",
       "      <th>3</th>\n",
       "      <td>3247</td>\n",
       "      <td>JavaScript: Understanding the Weird Parts</td>\n",
       "      <td>16976</td>\n",
       "    </tr>\n",
       "    <tr>\n",
       "      <th>4</th>\n",
       "      <td>3254</td>\n",
       "      <td>Modern React with Redux</td>\n",
       "      <td>15117</td>\n",
       "    </tr>\n",
       "    <tr>\n",
       "      <th>5</th>\n",
       "      <td>3246</td>\n",
       "      <td>Learn and Understand AngularJS</td>\n",
       "      <td>11580</td>\n",
       "    </tr>\n",
       "    <tr>\n",
       "      <th>6</th>\n",
       "      <td>3251</td>\n",
       "      <td>Learn and Understand NodeJS</td>\n",
       "      <td>11123</td>\n",
       "    </tr>\n",
       "    <tr>\n",
       "      <th>7</th>\n",
       "      <td>2827</td>\n",
       "      <td>Learn HTML5 Programming From Scratch</td>\n",
       "      <td>8629</td>\n",
       "    </tr>\n",
       "    <tr>\n",
       "      <th>8</th>\n",
       "      <td>3228</td>\n",
       "      <td>Angular 2 with TypeScript for Beginners: The P...</td>\n",
       "      <td>8341</td>\n",
       "    </tr>\n",
       "    <tr>\n",
       "      <th>9</th>\n",
       "      <td>1979</td>\n",
       "      <td>Pianoforall - Incredible New Way To Learn Pian...</td>\n",
       "      <td>7676</td>\n",
       "    </tr>\n",
       "  </tbody>\n",
       "</table>\n",
       "</div>"
      ],
      "text/plain": [
       "   index                                        CourseTitle  Reviews.No\n",
       "0   3230                         The Web Developer Bootcamp       27445\n",
       "1   3232              The Complete Web Developer Course 2.0       22412\n",
       "2   3204  Angular 4 (formerly Angular 2) - The Complete ...       19649\n",
       "3   3247          JavaScript: Understanding the Weird Parts       16976\n",
       "4   3254                            Modern React with Redux       15117\n",
       "5   3246                     Learn and Understand AngularJS       11580\n",
       "6   3251                        Learn and Understand NodeJS       11123\n",
       "7   2827               Learn HTML5 Programming From Scratch        8629\n",
       "8   3228  Angular 2 with TypeScript for Beginners: The P...        8341\n",
       "9   1979  Pianoforall - Incredible New Way To Learn Pian...        7676"
      ]
     },
     "execution_count": 78,
     "metadata": {},
     "output_type": "execute_result"
    }
   ],
   "source": [
    "data.sort_values('Reviews.No',ascending=False).head(10)[['CourseTitle','Reviews.No']].reset_index()"
   ]
  },
  {
   "cell_type": "markdown",
   "id": "a8822464",
   "metadata": {},
   "source": [
    "These is Top 10 most review courese"
   ]
  },
  {
   "cell_type": "markdown",
   "id": "054092c4",
   "metadata": {},
   "source": [
    "### Does Price Affect Number of Reviews"
   ]
  },
  {
   "cell_type": "code",
   "execution_count": 82,
   "id": "ebb89bd1",
   "metadata": {},
   "outputs": [
    {
     "data": {
      "text/plain": [
       "<Axes: xlabel='Price', ylabel='Reviews.No'>"
      ]
     },
     "execution_count": 82,
     "metadata": {},
     "output_type": "execute_result"
    },
    {
     "data": {
      "image/png": "[encoded data removed]",
      "text/plain": [
       "<Figure size 1500x600 with 1 Axes>"
      ]
     },
     "metadata": {},
     "output_type": "display_data"
    }
   ],
   "source": [
    "plt.figure(figsize=(15,6))\n",
    "sns.scatterplot(x='Price',y='Reviews.No',data=data)"
   ]
  },
  {
   "cell_type": "markdown",
   "id": "a5798d79",
   "metadata": {},
   "source": [
    "By these Graph we can clearly say that Price directly affect Numbers of Revirews"
   ]
  },
  {
   "cell_type": "markdown",
   "id": "d8f1bb75",
   "metadata": {},
   "source": [
    "### Find Total Number of Course Related to Python"
   ]
  },
  {
   "cell_type": "code",
   "execution_count": 91,
   "id": "8391d00d",
   "metadata": {},
   "outputs": [
    {
     "data": {
      "text/plain": [
       "29"
      ]
     },
     "execution_count": 91,
     "metadata": {},
     "output_type": "execute_result"
    }
   ],
   "source": [
    "data[data['CourseTitle'].str.contains('Python')]['CourseTitle'].count()"
   ]
  },
  {
   "cell_type": "markdown",
   "id": "5c8a93ef",
   "metadata": {},
   "source": [
    "There are 29 courses which are related to python"
   ]
  },
  {
   "cell_type": "markdown",
   "id": "5aa8d72f",
   "metadata": {},
   "source": [
    "### Display 10 Most Popular Python Course As Per Number Of Subscribers"
   ]
  },
  {
   "cell_type": "code",
   "execution_count": 98,
   "id": "440b3842",
   "metadata": {},
   "outputs": [
    {
     "data": {
      "text/html": [
       "<div>\n",
       "<style scoped>\n",
       "    .dataframe tbody tr th:only-of-type {\n",
       "        vertical-align: middle;\n",
       "    }\n",
       "\n",
       "    .dataframe tbody tr th {\n",
       "        vertical-align: top;\n",
       "    }\n",
       "\n",
       "    .dataframe thead th {\n",
       "        text-align: right;\n",
       "    }\n",
       "</style>\n",
       "<table border=\"1\" class=\"dataframe\">\n",
       "  <thead>\n",
       "    <tr style=\"text-align: right;\">\n",
       "      <th></th>\n",
       "      <th>CourseTitle</th>\n",
       "      <th>Subscribers</th>\n",
       "    </tr>\n",
       "  </thead>\n",
       "  <tbody>\n",
       "    <tr>\n",
       "      <th>2497</th>\n",
       "      <td>Web Programming with Python</td>\n",
       "      <td>35267</td>\n",
       "    </tr>\n",
       "    <tr>\n",
       "      <th>2570</th>\n",
       "      <td>Coding for Entrepreneurs: Learn Python, Django...</td>\n",
       "      <td>23412</td>\n",
       "    </tr>\n",
       "    <tr>\n",
       "      <th>2528</th>\n",
       "      <td>Learn Python and Django: Payment Processing</td>\n",
       "      <td>17714</td>\n",
       "    </tr>\n",
       "    <tr>\n",
       "      <th>3200</th>\n",
       "      <td>Python and Django Full Stack Web Developer Boo...</td>\n",
       "      <td>11832</td>\n",
       "    </tr>\n",
       "    <tr>\n",
       "      <th>3507</th>\n",
       "      <td>Fun and creative web engineering with Python a...</td>\n",
       "      <td>10917</td>\n",
       "    </tr>\n",
       "    <tr>\n",
       "      <th>2553</th>\n",
       "      <td>The Complete Ethical Hacking Course 2.0: Pytho...</td>\n",
       "      <td>7827</td>\n",
       "    </tr>\n",
       "    <tr>\n",
       "      <th>3138</th>\n",
       "      <td>Complete Python Web Course: Build 8 Python Web...</td>\n",
       "      <td>7489</td>\n",
       "    </tr>\n",
       "    <tr>\n",
       "      <th>3197</th>\n",
       "      <td>Try Django 1.9 | Build a Blog and Learn Python...</td>\n",
       "      <td>7407</td>\n",
       "    </tr>\n",
       "    <tr>\n",
       "      <th>2681</th>\n",
       "      <td>Python for Beginners: Python Programming Langu...</td>\n",
       "      <td>6153</td>\n",
       "    </tr>\n",
       "    <tr>\n",
       "      <th>3203</th>\n",
       "      <td>REST APIs with Flask and Python</td>\n",
       "      <td>5151</td>\n",
       "    </tr>\n",
       "  </tbody>\n",
       "</table>\n",
       "</div>"
      ],
      "text/plain": [
       "                                            CourseTitle  Subscribers\n",
       "2497                        Web Programming with Python        35267\n",
       "2570  Coding for Entrepreneurs: Learn Python, Django...        23412\n",
       "2528        Learn Python and Django: Payment Processing        17714\n",
       "3200  Python and Django Full Stack Web Developer Boo...        11832\n",
       "3507  Fun and creative web engineering with Python a...        10917\n",
       "2553  The Complete Ethical Hacking Course 2.0: Pytho...         7827\n",
       "3138  Complete Python Web Course: Build 8 Python Web...         7489\n",
       "3197  Try Django 1.9 | Build a Blog and Learn Python...         7407\n",
       "2681  Python for Beginners: Python Programming Langu...         6153\n",
       "3203                    REST APIs with Flask and Python         5151"
      ]
     },
     "execution_count": 98,
     "metadata": {},
     "output_type": "execute_result"
    }
   ],
   "source": [
    "python=data[data['CourseTitle'].str.contains('Python')].sort_values('Subscribers',ascending=False).head(10)[['CourseTitle','Subscribers']]\n",
    "python"
   ]
  },
  {
   "cell_type": "code",
   "execution_count": 99,
   "id": "fec9e1af",
   "metadata": {},
   "outputs": [
    {
     "data": {
      "text/plain": [
       "<Axes: xlabel='Subscribers', ylabel='CourseTitle'>"
      ]
     },
     "execution_count": 99,
     "metadata": {},
     "output_type": "execute_result"
    },
    {
     "data": {
      "image/png": "[encoded data removed]",
      "text/plain": [
       "<Figure size 640x480 with 1 Axes>"
      ]
     },
     "metadata": {},
     "output_type": "display_data"
    }
   ],
   "source": [
    "sns.barplot(x='Subscribers',y='CourseTitle',data=python)"
   ]
  },
  {
   "cell_type": "markdown",
   "id": "b68834e2",
   "metadata": {},
   "source": [
    "### In Which Year Highest Number Of Courses Were Posted"
   ]
  },
  {
   "cell_type": "code",
   "execution_count": 100,
   "id": "1e06607b",
   "metadata": {},
   "outputs": [
    {
     "data": {
      "text/html": [
       "<div>\n",
       "<style scoped>\n",
       "    .dataframe tbody tr th:only-of-type {\n",
       "        vertical-align: middle;\n",
       "    }\n",
       "\n",
       "    .dataframe tbody tr th {\n",
       "        vertical-align: top;\n",
       "    }\n",
       "\n",
       "    .dataframe thead th {\n",
       "        text-align: right;\n",
       "    }\n",
       "</style>\n",
       "<table border=\"1\" class=\"dataframe\">\n",
       "  <thead>\n",
       "    <tr style=\"text-align: right;\">\n",
       "      <th></th>\n",
       "      <th>CourseID</th>\n",
       "      <th>CourseTitle</th>\n",
       "      <th>Link</th>\n",
       "      <th>Version</th>\n",
       "      <th>Price</th>\n",
       "      <th>Subscribers</th>\n",
       "      <th>Reviews.No</th>\n",
       "      <th>Lectures</th>\n",
       "      <th>Level</th>\n",
       "      <th>Duration</th>\n",
       "      <th>ReleasedDate</th>\n",
       "      <th>Subject</th>\n",
       "    </tr>\n",
       "  </thead>\n",
       "  <tbody>\n",
       "    <tr>\n",
       "      <th>0</th>\n",
       "      <td>1070968</td>\n",
       "      <td>Ultimate Investment Banking Course</td>\n",
       "      <td>https://www.udemy.com/ultimate-investment-bank...</td>\n",
       "      <td>Paid</td>\n",
       "      <td>200</td>\n",
       "      <td>2147</td>\n",
       "      <td>23</td>\n",
       "      <td>51</td>\n",
       "      <td>All Levels</td>\n",
       "      <td>1.5</td>\n",
       "      <td>2017-01-18 20:58:58+00:00</td>\n",
       "      <td>Business Finance</td>\n",
       "    </tr>\n",
       "    <tr>\n",
       "      <th>1</th>\n",
       "      <td>1113822</td>\n",
       "      <td>Complete GST Course &amp; Certification - Grow You...</td>\n",
       "      <td>https://www.udemy.com/goods-and-services-tax/</td>\n",
       "      <td>Paid</td>\n",
       "      <td>75</td>\n",
       "      <td>2792</td>\n",
       "      <td>923</td>\n",
       "      <td>274</td>\n",
       "      <td>All Levels</td>\n",
       "      <td>39.0</td>\n",
       "      <td>2017-03-09 16:34:20+00:00</td>\n",
       "      <td>Business Finance</td>\n",
       "    </tr>\n",
       "  </tbody>\n",
       "</table>\n",
       "</div>"
      ],
      "text/plain": [
       "   CourseID                                        CourseTitle  \\\n",
       "0   1070968                 Ultimate Investment Banking Course   \n",
       "1   1113822  Complete GST Course & Certification - Grow You...   \n",
       "\n",
       "                                                Link Version  Price  \\\n",
       "0  https://www.udemy.com/ultimate-investment-bank...    Paid    200   \n",
       "1      https://www.udemy.com/goods-and-services-tax/    Paid     75   \n",
       "\n",
       "   Subscribers  Reviews.No  Lectures       Level  Duration  \\\n",
       "0         2147          23        51  All Levels       1.5   \n",
       "1         2792         923       274  All Levels      39.0   \n",
       "\n",
       "               ReleasedDate           Subject  \n",
       "0 2017-01-18 20:58:58+00:00  Business Finance  \n",
       "1 2017-03-09 16:34:20+00:00  Business Finance  "
      ]
     },
     "execution_count": 100,
     "metadata": {},
     "output_type": "execute_result"
    }
   ],
   "source": [
    "data.head(2)"
   ]
  },
  {
   "cell_type": "code",
   "execution_count": 104,
   "id": "87b75686",
   "metadata": {},
   "outputs": [],
   "source": [
    "data['Year']=data['ReleasedDate'].dt.year"
   ]
  },
  {
   "cell_type": "code",
   "execution_count": 105,
   "id": "ed9ae080",
   "metadata": {},
   "outputs": [
    {
     "data": {
      "text/html": [
       "<div>\n",
       "<style scoped>\n",
       "    .dataframe tbody tr th:only-of-type {\n",
       "        vertical-align: middle;\n",
       "    }\n",
       "\n",
       "    .dataframe tbody tr th {\n",
       "        vertical-align: top;\n",
       "    }\n",
       "\n",
       "    .dataframe thead th {\n",
       "        text-align: right;\n",
       "    }\n",
       "</style>\n",
       "<table border=\"1\" class=\"dataframe\">\n",
       "  <thead>\n",
       "    <tr style=\"text-align: right;\">\n",
       "      <th></th>\n",
       "      <th>CourseID</th>\n",
       "      <th>CourseTitle</th>\n",
       "      <th>Link</th>\n",
       "      <th>Version</th>\n",
       "      <th>Price</th>\n",
       "      <th>Subscribers</th>\n",
       "      <th>Reviews.No</th>\n",
       "      <th>Lectures</th>\n",
       "      <th>Level</th>\n",
       "      <th>Duration</th>\n",
       "      <th>ReleasedDate</th>\n",
       "      <th>Subject</th>\n",
       "      <th>Year</th>\n",
       "    </tr>\n",
       "  </thead>\n",
       "  <tbody>\n",
       "    <tr>\n",
       "      <th>0</th>\n",
       "      <td>1070968</td>\n",
       "      <td>Ultimate Investment Banking Course</td>\n",
       "      <td>https://www.udemy.com/ultimate-investment-bank...</td>\n",
       "      <td>Paid</td>\n",
       "      <td>200</td>\n",
       "      <td>2147</td>\n",
       "      <td>23</td>\n",
       "      <td>51</td>\n",
       "      <td>All Levels</td>\n",
       "      <td>1.5</td>\n",
       "      <td>2017-01-18 20:58:58+00:00</td>\n",
       "      <td>Business Finance</td>\n",
       "      <td>2017</td>\n",
       "    </tr>\n",
       "    <tr>\n",
       "      <th>1</th>\n",
       "      <td>1113822</td>\n",
       "      <td>Complete GST Course &amp; Certification - Grow You...</td>\n",
       "      <td>https://www.udemy.com/goods-and-services-tax/</td>\n",
       "      <td>Paid</td>\n",
       "      <td>75</td>\n",
       "      <td>2792</td>\n",
       "      <td>923</td>\n",
       "      <td>274</td>\n",
       "      <td>All Levels</td>\n",
       "      <td>39.0</td>\n",
       "      <td>2017-03-09 16:34:20+00:00</td>\n",
       "      <td>Business Finance</td>\n",
       "      <td>2017</td>\n",
       "    </tr>\n",
       "  </tbody>\n",
       "</table>\n",
       "</div>"
      ],
      "text/plain": [
       "   CourseID                                        CourseTitle  \\\n",
       "0   1070968                 Ultimate Investment Banking Course   \n",
       "1   1113822  Complete GST Course & Certification - Grow You...   \n",
       "\n",
       "                                                Link Version  Price  \\\n",
       "0  https://www.udemy.com/ultimate-investment-bank...    Paid    200   \n",
       "1      https://www.udemy.com/goods-and-services-tax/    Paid     75   \n",
       "\n",
       "   Subscribers  Reviews.No  Lectures       Level  Duration  \\\n",
       "0         2147          23        51  All Levels       1.5   \n",
       "1         2792         923       274  All Levels      39.0   \n",
       "\n",
       "               ReleasedDate           Subject  Year  \n",
       "0 2017-01-18 20:58:58+00:00  Business Finance  2017  \n",
       "1 2017-03-09 16:34:20+00:00  Business Finance  2017  "
      ]
     },
     "execution_count": 105,
     "metadata": {},
     "output_type": "execute_result"
    }
   ],
   "source": [
    "data.head(2)"
   ]
  },
  {
   "cell_type": "code",
   "execution_count": 121,
   "id": "a400af54",
   "metadata": {},
   "outputs": [
    {
     "data": {
      "text/plain": [
       "Year\n",
       "2016    1206\n",
       "2015    1014\n",
       "2017     715\n",
       "2014     491\n",
       "2013     202\n",
       "2012      45\n",
       "2011       5\n",
       "Name: count, dtype: int64"
      ]
     },
     "execution_count": 121,
     "metadata": {},
     "output_type": "execute_result"
    }
   ],
   "source": [
    "data['Year'].value_counts()"
   ]
  },
  {
   "cell_type": "markdown",
   "id": "bb713625",
   "metadata": {},
   "source": [
    "It shows in which year how many courses launched by Udemy"
   ]
  },
  {
   "cell_type": "markdown",
   "id": "7aab139d",
   "metadata": {},
   "source": [
    "### Display Category Wise and Year Wise Count of Posted Subjects "
   ]
  },
  {
   "cell_type": "code",
   "execution_count": 129,
   "id": "c9d0a481",
   "metadata": {},
   "outputs": [
    {
     "data": {
      "text/html": [
       "<div>\n",
       "<style scoped>\n",
       "    .dataframe tbody tr th:only-of-type {\n",
       "        vertical-align: middle;\n",
       "    }\n",
       "\n",
       "    .dataframe tbody tr th {\n",
       "        vertical-align: top;\n",
       "    }\n",
       "\n",
       "    .dataframe thead th {\n",
       "        text-align: right;\n",
       "    }\n",
       "</style>\n",
       "<table border=\"1\" class=\"dataframe\">\n",
       "  <thead>\n",
       "    <tr style=\"text-align: right;\">\n",
       "      <th></th>\n",
       "      <th>Year</th>\n",
       "      <th>Subject</th>\n",
       "      <th>count</th>\n",
       "    </tr>\n",
       "  </thead>\n",
       "  <tbody>\n",
       "    <tr>\n",
       "      <th>0</th>\n",
       "      <td>2011</td>\n",
       "      <td>Web Development</td>\n",
       "      <td>5</td>\n",
       "    </tr>\n",
       "    <tr>\n",
       "      <th>1</th>\n",
       "      <td>2012</td>\n",
       "      <td>Web Development</td>\n",
       "      <td>19</td>\n",
       "    </tr>\n",
       "    <tr>\n",
       "      <th>2</th>\n",
       "      <td>2012</td>\n",
       "      <td>Musical Instruments</td>\n",
       "      <td>10</td>\n",
       "    </tr>\n",
       "    <tr>\n",
       "      <th>3</th>\n",
       "      <td>2012</td>\n",
       "      <td>Graphic Design</td>\n",
       "      <td>10</td>\n",
       "    </tr>\n",
       "    <tr>\n",
       "      <th>4</th>\n",
       "      <td>2012</td>\n",
       "      <td>Business Finance</td>\n",
       "      <td>6</td>\n",
       "    </tr>\n",
       "    <tr>\n",
       "      <th>5</th>\n",
       "      <td>2013</td>\n",
       "      <td>Business Finance</td>\n",
       "      <td>84</td>\n",
       "    </tr>\n",
       "    <tr>\n",
       "      <th>6</th>\n",
       "      <td>2013</td>\n",
       "      <td>Web Development</td>\n",
       "      <td>56</td>\n",
       "    </tr>\n",
       "    <tr>\n",
       "      <th>7</th>\n",
       "      <td>2013</td>\n",
       "      <td>Musical Instruments</td>\n",
       "      <td>39</td>\n",
       "    </tr>\n",
       "    <tr>\n",
       "      <th>8</th>\n",
       "      <td>2013</td>\n",
       "      <td>Graphic Design</td>\n",
       "      <td>23</td>\n",
       "    </tr>\n",
       "    <tr>\n",
       "      <th>9</th>\n",
       "      <td>2014</td>\n",
       "      <td>Business Finance</td>\n",
       "      <td>192</td>\n",
       "    </tr>\n",
       "    <tr>\n",
       "      <th>10</th>\n",
       "      <td>2014</td>\n",
       "      <td>Musical Instruments</td>\n",
       "      <td>120</td>\n",
       "    </tr>\n",
       "    <tr>\n",
       "      <th>11</th>\n",
       "      <td>2014</td>\n",
       "      <td>Web Development</td>\n",
       "      <td>113</td>\n",
       "    </tr>\n",
       "    <tr>\n",
       "      <th>12</th>\n",
       "      <td>2014</td>\n",
       "      <td>Graphic Design</td>\n",
       "      <td>66</td>\n",
       "    </tr>\n",
       "    <tr>\n",
       "      <th>13</th>\n",
       "      <td>2015</td>\n",
       "      <td>Business Finance</td>\n",
       "      <td>339</td>\n",
       "    </tr>\n",
       "    <tr>\n",
       "      <th>14</th>\n",
       "      <td>2015</td>\n",
       "      <td>Web Development</td>\n",
       "      <td>336</td>\n",
       "    </tr>\n",
       "    <tr>\n",
       "      <th>15</th>\n",
       "      <td>2015</td>\n",
       "      <td>Musical Instruments</td>\n",
       "      <td>171</td>\n",
       "    </tr>\n",
       "    <tr>\n",
       "      <th>16</th>\n",
       "      <td>2015</td>\n",
       "      <td>Graphic Design</td>\n",
       "      <td>168</td>\n",
       "    </tr>\n",
       "    <tr>\n",
       "      <th>17</th>\n",
       "      <td>2016</td>\n",
       "      <td>Web Development</td>\n",
       "      <td>448</td>\n",
       "    </tr>\n",
       "    <tr>\n",
       "      <th>18</th>\n",
       "      <td>2016</td>\n",
       "      <td>Business Finance</td>\n",
       "      <td>349</td>\n",
       "    </tr>\n",
       "    <tr>\n",
       "      <th>19</th>\n",
       "      <td>2016</td>\n",
       "      <td>Musical Instruments</td>\n",
       "      <td>228</td>\n",
       "    </tr>\n",
       "    <tr>\n",
       "      <th>20</th>\n",
       "      <td>2016</td>\n",
       "      <td>Graphic Design</td>\n",
       "      <td>181</td>\n",
       "    </tr>\n",
       "    <tr>\n",
       "      <th>21</th>\n",
       "      <td>2017</td>\n",
       "      <td>Business Finance</td>\n",
       "      <td>225</td>\n",
       "    </tr>\n",
       "    <tr>\n",
       "      <th>22</th>\n",
       "      <td>2017</td>\n",
       "      <td>Web Development</td>\n",
       "      <td>223</td>\n",
       "    </tr>\n",
       "    <tr>\n",
       "      <th>23</th>\n",
       "      <td>2017</td>\n",
       "      <td>Graphic Design</td>\n",
       "      <td>155</td>\n",
       "    </tr>\n",
       "    <tr>\n",
       "      <th>24</th>\n",
       "      <td>2017</td>\n",
       "      <td>Musical Instruments</td>\n",
       "      <td>112</td>\n",
       "    </tr>\n",
       "  </tbody>\n",
       "</table>\n",
       "</div>"
      ],
      "text/plain": [
       "    Year              Subject  count\n",
       "0   2011      Web Development      5\n",
       "1   2012      Web Development     19\n",
       "2   2012  Musical Instruments     10\n",
       "3   2012       Graphic Design     10\n",
       "4   2012     Business Finance      6\n",
       "5   2013     Business Finance     84\n",
       "6   2013      Web Development     56\n",
       "7   2013  Musical Instruments     39\n",
       "8   2013       Graphic Design     23\n",
       "9   2014     Business Finance    192\n",
       "10  2014  Musical Instruments    120\n",
       "11  2014      Web Development    113\n",
       "12  2014       Graphic Design     66\n",
       "13  2015     Business Finance    339\n",
       "14  2015      Web Development    336\n",
       "15  2015  Musical Instruments    171\n",
       "16  2015       Graphic Design    168\n",
       "17  2016      Web Development    448\n",
       "18  2016     Business Finance    349\n",
       "19  2016  Musical Instruments    228\n",
       "20  2016       Graphic Design    181\n",
       "21  2017     Business Finance    225\n",
       "22  2017      Web Development    223\n",
       "23  2017       Graphic Design    155\n",
       "24  2017  Musical Instruments    112"
      ]
     },
     "execution_count": 129,
     "metadata": {},
     "output_type": "execute_result"
    }
   ],
   "source": [
    "data.groupby('Year')['Subject'].value_counts().reset_index()"
   ]
  },
  {
   "cell_type": "code",
   "execution_count": null,
   "id": "cb2a4e66",
   "metadata": {},
   "outputs": [],
   "source": []
  }
 ],
 "metadata": {
  "kernelspec": {
   "display_name": "Python 3 (ipykernel)",
   "language": "python",
   "name": "python3"
  },
  "language_info": {
   "codemirror_mode": {
    "name": "ipython",
    "version": 3
   },
   "file_extension": ".py",
   "mimetype": "text/x-python",
   "name": "python",
   "nbconvert_exporter": "python",
   "pygments_lexer": "ipython3",
   "version": "3.11.7"
  }
 },
 "nbformat": 4,
 "nbformat_minor": 5
}
